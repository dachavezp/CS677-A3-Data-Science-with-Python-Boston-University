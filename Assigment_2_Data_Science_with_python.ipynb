{
  "nbformat": 4,
  "nbformat_minor": 0,
  "metadata": {
    "colab": {
      "provenance": []
    },
    "kernelspec": {
      "name": "python3",
      "display_name": "Python 3"
    },
    "language_info": {
      "name": "python"
    }
  },
  "cells": [
    {
      "cell_type": "code",
      "execution_count": 7,
      "metadata": {
        "colab": {
          "base_uri": "https://localhost:8080/"
        },
        "id": "65F0x6unxvtE",
        "outputId": "a75728e4-9a3b-4e19-cc1b-8fa4d5e9b4c5"
      },
      "outputs": [
        {
          "output_type": "stream",
          "name": "stdout",
          "text": [
            "Total number of entries: 12082\n",
            "Average weight (in carats): 0.8064\n",
            "Average price (in US dollars): 3981.7599\n"
          ]
        }
      ],
      "source": [
        "# Question 1\n",
        "# Step 1: Load the CSV file\n",
        "with open(\"diamonds.csv\", \"r\") as file:\n",
        "    lines = file.readlines()\n",
        "\n",
        "# Step 2: Extract the header and diamonds with 'Very Good' cut\n",
        "header = lines[0].strip().split(\",\")  # Get the header line\n",
        "data = [line.strip().split(\",\") for line in lines[1:]]  # Process all lines except the header\n",
        "\n",
        "# Indexes for relevant columns\n",
        "cut_index = header.index(\"cut\")\n",
        "carat_index = header.index(\"carat\")\n",
        "price_index = header.index(\"price\")\n",
        "\n",
        "# Step 3: Filter diamonds with 'Very Good' cut\n",
        "very_good_diamonds = [row for row in data if row[cut_index] == \"Very Good\"]\n",
        "\n",
        "# Step 4: Count entries\n",
        "total_entries = len(very_good_diamonds)\n",
        "\n",
        "# Step 5: Compute average carat weight\n",
        "total_carat = sum(float(row[carat_index]) for row in very_good_diamonds)\n",
        "average_carat = total_carat / total_entries\n",
        "\n",
        "# Step 6: Compute average price\n",
        "total_price = sum(float(row[price_index]) for row in very_good_diamonds)\n",
        "average_price = total_price / total_entries\n",
        "\n",
        "# Output the results\n",
        "print(f\"Total number of entries: {total_entries}\")\n",
        "print(f\"Average weight (in carats): {average_carat:.4f}\")\n",
        "print(f\"Average price (in US dollars): {average_price:.4f}\")\n"
      ]
    },
    {
      "cell_type": "code",
      "source": [
        "# Question 2\n",
        "# Convert relevant columns to floats\n",
        "carat_weights = [float(row[carat_index]) for row in very_good_diamonds]\n",
        "prices = [float(row[price_index]) for row in very_good_diamonds]\n",
        "\n",
        "# Step 1: Compute average prices per carat using method 'a'\n",
        "N = len(very_good_diamonds)\n",
        "\n",
        "# Method \"a\"\n",
        "sum_price_per_carat = sum(price / weight for price, weight in zip(prices, carat_weights))\n",
        "average_a = sum_price_per_carat / N\n",
        "\n",
        "# Method \"b\"\n",
        "sum_prices = sum(prices)\n",
        "sum_weights = sum(carat_weights)\n",
        "average_b = sum_prices / sum_weights\n",
        "\n",
        "# Step 2: Find the max, min, and median price per carat\n",
        "price_per_carat = [price / weight for price, weight in zip(prices, carat_weights)]\n",
        "\n",
        "# Maximum price per carat\n",
        "max_price_per_carat = max(price_per_carat)\n",
        "\n",
        "# Minimum price per carat\n",
        "min_price_per_carat = min(price_per_carat)\n",
        "\n",
        "# Median price per carat\n",
        "sorted_price_per_carat = sorted(price_per_carat)\n",
        "middle = N // 2\n",
        "if N % 2 == 0:\n",
        "    median_price_per_carat = (sorted_price_per_carat[middle - 1] + sorted_price_per_carat[middle]) / 2\n",
        "else:\n",
        "    median_price_per_carat = sorted_price_per_carat[middle]\n",
        "\n",
        "# Output the results\n",
        "print(f\"Average price per carat using method 'a': {average_a:.4f}\")\n",
        "print(f\"Average price per carat using method 'b': {average_b:.4f}\")\n",
        "print(f\"Maximum price per carat: {max_price_per_carat:.4f}\")\n",
        "print(f\"Minimum price per carat: {min_price_per_carat:.4f}\")\n",
        "print(f\"Median price per carat: {median_price_per_carat:.4f}\")\n",
        "\n",
        "# Step 3: Compare the two averages\n",
        "if average_a < average_b:\n",
        "    print(\"Method 'a' gives a lower average price per carat.\")\n",
        "else:\n",
        "    print(\"Method 'b' gives a lower average price per carat.\")\n"
      ],
      "metadata": {
        "colab": {
          "base_uri": "https://localhost:8080/"
        },
        "id": "3ZYFeNCw0u-y",
        "outputId": "3575cf99-ab36-474f-8f69-9b66e5ca9338"
      },
      "execution_count": 6,
      "outputs": [
        {
          "output_type": "stream",
          "name": "stdout",
          "text": [
            "Average price per carat using method 'a': 4014.1284\n",
            "Average price per carat using method 'b': 4937.8122\n",
            "Maximum price per carat: 17828.8462\n",
            "Minimum price per carat: 1138.7097\n",
            "Median price per carat: 3605.8258\n",
            "Method 'a' gives a lower average price per carat.\n"
          ]
        }
      ]
    },
    {
      "cell_type": "code",
      "source": [
        "# Question 3\n",
        "color_index = header.index(\"color\")\n",
        "clarity_index = header.index(\"clarity\")\n",
        "depth_index = header.index(\"depth\")\n",
        "table_index = header.index(\"table\")\n",
        "price_per_carat = [(float(row[price_index]) / float(row[carat_index]), row) for row in very_good_diamonds]\n",
        "\n",
        "# Step 1: Find the highest and lowest price per carat\n",
        "max_price_per_carat, max_diamond = max(price_per_carat, key=lambda x: x[0])\n",
        "min_price_per_carat, min_diamond = min(price_per_carat, key=lambda x: x[0])\n",
        "\n",
        "# Step 2: Output the details of the diamond with highest and lowest price per carat\n",
        "max_combination = {\n",
        "    \"price_per_carat\": max_price_per_carat,\n",
        "    \"color\": max_diamond[color_index],\n",
        "    \"clarity\": max_diamond[clarity_index],\n",
        "    \"depth\": max_diamond[depth_index],\n",
        "    \"table\": max_diamond[table_index],\n",
        "}\n",
        "\n",
        "min_combination = {\n",
        "    \"price_per_carat\": min_price_per_carat,\n",
        "    \"color\": min_diamond[color_index],\n",
        "    \"clarity\": min_diamond[clarity_index],\n",
        "    \"depth\": min_diamond[depth_index],\n",
        "    \"table\": min_diamond[table_index],\n",
        "}\n",
        "\n",
        "# Print the results\n",
        "print(\"Highest price per carat:\")\n",
        "for key, value in max_combination.items():\n",
        "    print(f\"{key}: {value}\")\n",
        "\n",
        "print(\"\\nLowest price per carat:\")\n",
        "for key, value in min_combination.items():\n",
        "    print(f\"{key}: {value}\")"
      ],
      "metadata": {
        "colab": {
          "base_uri": "https://localhost:8080/"
        },
        "id": "1Ap9i02P4av4",
        "outputId": "923c7229-2ac3-4cdf-ce6f-673b909f496d"
      },
      "execution_count": 14,
      "outputs": [
        {
          "output_type": "stream",
          "name": "stdout",
          "text": [
            "Highest price per carat:\n",
            "price_per_carat: 17828.846153846152\n",
            "color: D\n",
            "clarity: IF\n",
            "depth: 61.3\n",
            "table: 56\n",
            "\n",
            "Lowest price per carat:\n",
            "price_per_carat: 1138.7096774193549\n",
            "color: J\n",
            "clarity: SI1\n",
            "depth: 59.4\n",
            "table: 62\n"
          ]
        }
      ]
    },
    {
      "cell_type": "code",
      "source": [
        "# Question 4\n",
        "# Given values\n",
        "average_price_per_carat = 6642  # This is the average price per carat from method 'a'\n",
        "diamond_weight = 102  # Weight of the Sotheby's diamond in carats\n",
        "actual_price = 15_700_000  # Actual price from the Sotheby's auction in USD\n",
        "\n",
        "# Step 1: Estimate the price using the average price per carat\n",
        "estimated_price = average_price_per_carat * diamond_weight\n",
        "\n",
        "# Step 2: Calculate the difference between the estimated price and the actual price\n",
        "price_difference = actual_price - estimated_price\n",
        "\n",
        "# Step 3: Calculate the percentage difference\n",
        "percentage_difference = (price_difference / actual_price) * 100\n",
        "\n",
        "# Output the results\n",
        "print(f\"Estimated price for the 102-carat diamond: ${estimated_price:,.2f}\")\n",
        "print(f\"Actual price from Sotheby's auction: ${actual_price:,.2f}\")\n",
        "print(f\"Difference between actual and estimated price: ${price_difference:,.2f}\")\n",
        "print(f\"Percentage difference: {percentage_difference:.2f}%\")\n",
        "\n",
        "# Conclusion on why there is a difference\n",
        "if estimated_price < actual_price:\n",
        "    print(\"The actual price is significantly higher due to the exceptional quality of the diamond (D-color, flawless).\")\n",
        "else:\n",
        "    print(\"The estimated price is higher than the actual price, but this is unlikely due to the extraordinary nature of the Sotheby's diamond.\")\n"
      ],
      "metadata": {
        "colab": {
          "base_uri": "https://localhost:8080/"
        },
        "id": "8kVdpNO_5E4d",
        "outputId": "4247275f-eecc-4dff-b938-f94550eca789"
      },
      "execution_count": 15,
      "outputs": [
        {
          "output_type": "stream",
          "name": "stdout",
          "text": [
            "Estimated price for the 102-carat diamond: $677,484.00\n",
            "Actual price from Sotheby's auction: $15,700,000.00\n",
            "Difference between actual and estimated price: $15,022,516.00\n",
            "Percentage difference: 95.68%\n",
            "The actual price is significantly higher due to the exceptional quality of the diamond (D-color, flawless).\n"
          ]
        }
      ]
    }
  ]
}